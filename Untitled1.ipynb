{
  "nbformat": 4,
  "nbformat_minor": 0,
  "metadata": {
    "colab": {
      "name": "Untitled1.ipynb",
      "provenance": [],
      "collapsed_sections": [],
      "authorship_tag": "ABX9TyOzFJTwemWC7tyqebgdno9Y",
      "include_colab_link": true
    },
    "kernelspec": {
      "name": "python3",
      "display_name": "Python 3"
    },
    "language_info": {
      "name": "python"
    }
  },
  "cells": [
    {
      "cell_type": "markdown",
      "metadata": {
        "id": "view-in-github",
        "colab_type": "text"
      },
      "source": [
        "<a href=\"https://colab.research.google.com/github/GObranAsker12/ASS2/blob/master/Untitled1.ipynb\" target=\"_parent\"><img src=\"https://colab.research.google.com/assets/colab-badge.svg\" alt=\"Open In Colab\"/></a>"
      ]
    },
    {
      "cell_type": "code",
      "source": [
        "import numpy as np\n",
        "\n"
      ],
      "metadata": {
        "id": "9ohxfVHoaGWJ"
      },
      "execution_count": null,
      "outputs": []
    },
    {
      "cell_type": "code",
      "source": [
        "a= sin (deg2rad(30))\n",
        "print(a)"
      ],
      "metadata": {
        "id": "CoNKNdN4cNz8"
      },
      "execution_count": null,
      "outputs": []
    },
    {
      "cell_type": "code",
      "source": [
        "a = round(3.869)\n",
        "print(a)"
      ],
      "metadata": {
        "id": "F06dmBQDca-1"
      },
      "execution_count": null,
      "outputs": []
    },
    {
      "cell_type": "code",
      "source": [
        "#a= ceil(3.1)\n",
        "b= floor(3.1)\n",
        "print(a)\n",
        "print(b)"
      ],
      "metadata": {
        "id": "URykpCC_clCP"
      },
      "execution_count": null,
      "outputs": []
    },
    {
      "cell_type": "code",
      "source": [
        "a = np.array ([1,2,3,4])\n",
        "print (a)\n",
        "print(type(a))\n",
        "print (a[0])\n",
        "print(a[-1])\n",
        "print(a[1])\n",
        "print (a[1]+a[2])"
      ],
      "metadata": {
        "id": "zI_tFfOii96T"
      },
      "execution_count": null,
      "outputs": []
    },
    {
      "cell_type": "code",
      "source": [
        "arr=np.array ([[1,5,6],[7,8,5]])\n",
        "print(arr)\n",
        "print([arr[0,1]])"
      ],
      "metadata": {
        "colab": {
          "base_uri": "https://localhost:8080/"
        },
        "id": "4Y_H435sj3Vh",
        "outputId": "f7d4e1b2-7a17-4df8-a7c4-5a9f846de2d3"
      },
      "execution_count": 46,
      "outputs": [
        {
          "output_type": "stream",
          "name": "stdout",
          "text": [
            "[[1 5 6]\n",
            " [7 8 5]]\n",
            "[5]\n"
          ]
        }
      ]
    },
    {
      "cell_type": "code",
      "source": [
        "arr=np.array ([[1,5,6],[7,8,5],[8,5,9]])\n",
        "print(arr)\n",
        "print('array shape:', arr.shape)\n",
        "for x in arr:\n",
        "  print(arr)\n",
        "  print('-----------------')\n",
        "  for x in arr:\n",
        "     for y in x:\n",
        "      print(y)  \n",
        "\n"
      ],
      "metadata": {
        "id": "tX9wyuhak2pW"
      },
      "execution_count": null,
      "outputs": []
    },
    {
      "cell_type": "code",
      "source": [
        "a = np.array(42)\n",
        "b = np.array([1, 2, 3, 4, 5])\n",
        "c = np.array([[1, 2, 3], [4, 5, 6]])\n",
        "d = np.array([[[1, 2, 3], [4, 5, 6]], [[1, 2, 3], [4, 5, 6]]])\n",
        "\n",
        "print(a.ndim)\n",
        "print(b.ndim)\n",
        "print(c.ndim)\n",
        "print(d.ndim)"
      ],
      "metadata": {
        "id": "R8qIJTrAk8IH"
      },
      "execution_count": null,
      "outputs": []
    },
    {
      "cell_type": "code",
      "source": [
        "arr = np.array([1, 2, 3, 4, 5, 6, 7])\n",
        "\n",
        "print(arr[1:5])\n",
        "print(arr[:-1])\n",
        "print(arr[1:4:7])"
      ],
      "metadata": {
        "id": "8UEJnWMjoMVp"
      },
      "execution_count": null,
      "outputs": []
    },
    {
      "cell_type": "code",
      "source": [
        "a = np.array([1, 2, 3, 4])\n",
        "\n",
        "print(a.dtype)"
      ],
      "metadata": {
        "id": "TDZraFT-q8By"
      },
      "execution_count": null,
      "outputs": []
    },
    {
      "cell_type": "code",
      "source": [
        "z=np.array(['Ahmed','Ali','mohammed'])\n",
        "print(z.dtype)"
      ],
      "metadata": {
        "id": "TlZSDzhTr3-U"
      },
      "execution_count": null,
      "outputs": []
    },
    {
      "cell_type": "code",
      "source": [
        "\n",
        "a = np.array([1, 2, 3, 4, 5])\n",
        "x = arr.copy()\n",
        "a[0]=44\n",
        "print(a)\n",
        "print(x)"
      ],
      "metadata": {
        "colab": {
          "base_uri": "https://localhost:8080/"
        },
        "id": "v3oiGnyqsxht",
        "outputId": "b078e8a6-8e7a-4505-cd4d-aa81b3dc6f8f"
      },
      "execution_count": 56,
      "outputs": [
        {
          "output_type": "stream",
          "name": "stdout",
          "text": [
            "[44  2  3  4  5]\n",
            "[1 2 3 4 5 6 7]\n"
          ]
        }
      ]
    },
    {
      "cell_type": "code",
      "source": [
        " a= np.array([1, 2, 3, 4, 5, 6, 7, 8, 9, 10, 11, 12])\n",
        "\n",
        "newarr = a.reshape(4, 3)\n",
        "\n",
        "print(newarr)"
      ],
      "metadata": {
        "id": "5Tv5lIGl6h6V"
      },
      "execution_count": null,
      "outputs": []
    },
    {
      "cell_type": "code",
      "source": [
        "x=np.array([1,2,3])\n",
        "z=np.array([5,6,8])\n",
        "arr=np.concatenate((x,z))\n",
        "print(arr)"
      ],
      "metadata": {
        "colab": {
          "base_uri": "https://localhost:8080/"
        },
        "id": "oZV-9OOw61V5",
        "outputId": "46aa828a-f1f4-4d8f-8085-8ed76f530961"
      },
      "execution_count": 63,
      "outputs": [
        {
          "output_type": "stream",
          "name": "stdout",
          "text": [
            "[1 2 3 5 6 8]\n"
          ]
        }
      ]
    },
    {
      "cell_type": "code",
      "source": [
        "x=np.array([1,2,3])\n",
        "z=np.array([5,6,8])\n",
        "arr=np.stack((x,z),axis=1)\n",
        "print(arr)"
      ],
      "metadata": {
        "id": "pn7drqpL741S"
      },
      "execution_count": null,
      "outputs": []
    },
    {
      "cell_type": "code",
      "source": [
        "arr = np.array([1, 2, 3, 4, 5, 6])\n",
        "\n",
        "n = np.array_split(arr, 6)\n",
        "\n",
        "print(n)"
      ],
      "metadata": {
        "id": "11fgipKP8o0O"
      },
      "execution_count": null,
      "outputs": []
    },
    {
      "cell_type": "code",
      "source": [
        "arr = np.array([[1, 2], [3, 4], [5, 6], [7, 8], [9, 10], [11, 12]])\n",
        "\n",
        "newarr = np.array_split(arr, 3)\n",
        "\n",
        "print(newarr)"
      ],
      "metadata": {
        "id": "FqAsXh8s8TDf"
      },
      "execution_count": null,
      "outputs": []
    },
    {
      "cell_type": "code",
      "source": [
        ""
      ],
      "metadata": {
        "id": "6WAU-gR7_DTJ"
      },
      "execution_count": null,
      "outputs": []
    }
  ]
}